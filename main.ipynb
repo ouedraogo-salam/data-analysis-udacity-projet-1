{
 "cells": [
  {
   "cell_type": "markdown",
   "id": "5f0fd0a2-98f2-4307-b0e3-7ab33841f32a",
   "metadata": {},
   "source": [
    "# Project 1 : Analyse de l'ensemble de données Portant sur les rendez-vous des patients à l'hôpital.  \n",
    "\n",
    "## Plan d'analyse\n",
    "1. Introduction\n",
    "2. Préparation des données\n",
    "3. Analyse Exploratoire des données\n",
    "4. Conclusion"
   ]
  },
  {
   "cell_type": "markdown",
   "id": "e5771cda-55fe-4903-81fb-ab503ef1b71e",
   "metadata": {},
   "source": [
    "## Introduction\n",
    "L'ensemble de données choix est :[No-Show appointments](https://d17h27t6h515a5.cloudfront.net/topher/2017/October/59dd2e9a_noshowappointments-kagglev2-may-2016/noshowappointments-kagglev2-may-2016.csv) disponible sur [Kaggle](https://www.kaggle.com/datasets/joniarroba/noshowappointments).  \n",
    "Il arrive qu’un patient ayant reçu des instructions pour un rendez-vous avec le médecin ne se point pas. Plusieurs cas ont également été recensé au brésil. L’ensemble de données récoltés présente plusieurs 13 variables explicatives et 1 variable à expliquer. Les variables explicatives sont entre autres : 'Gender, ScheduledDay, AppointmentDay, Age, Neighbourhood, Scholarship, Hipertension, Diabetes, Alcoholism, Handcap, SMS_received, AppointmentDay_month, AppointmentDay_day' et la variable à expliquer est : No_show. La question que l’on se pose lesquelles de ces variables sont susceptible de prédire si un patient sera présent à son rendez-vous avec le médecin. Pour répondre à cette question, nous nous posons plusieurs autres questions figurer dans les lignes qui suivent.\n",
    "\n",
    "## Questions\n",
    "\n",
    "1) Quelles catégories d’âge respecte le plus les rendez-vous avec le médecin.   \n",
    "2) Faut-il nécessairement rappeler un patient de son rendez-vous par SMS ?  \n",
    "3) L’aide financière pour la santé est-il explique-t-elle la présence d’un patient à son rendez-vous ?  \n",
    "4) Le jour du rendez-vous est-elle favorable aux employés.   \n",
    "5) Les patients Hypertendu ou Diabétique respectent leur rendez-vous. \n",
    "6) Qui des hommes ou des femmes honores les rendez-vous à l'hôpital?  \n"
   ]
  },
  {
   "cell_type": "code",
   "execution_count": 12,
   "id": "60f25e59-69fe-461a-bc42-416e80fdd88b",
   "metadata": {
    "tags": []
   },
   "outputs": [],
   "source": [
    "# Chargement des librairies\n",
    "import pandas as pd\n",
    "import numpy as np\n",
    "import matplotlib.pyplot as plt\n",
    "import seaborn as sns"
   ]
  },
  {
   "cell_type": "code",
   "execution_count": 13,
   "id": "5bed5cd5-dfa5-427b-b005-d164a1e3dca5",
   "metadata": {
    "tags": []
   },
   "outputs": [],
   "source": [
    "\"\"\"\n",
    "Cette fonction est utilisée pour la visualisation de l'analyse bivariée\n",
    "@param data : les données de la variable à expliquer et une variable explicatives\n",
    "        title : le titre du graphe\n",
    "        barh : afficher le diagramme en bar de manière Horizontal si True et Vertical sinon\n",
    "return None\n",
    "\"\"\"\n",
    "def barhplot(data, title=\"\", barh=False):\n",
    "    plt.figure(figsize=(10,4))    \n",
    "    plt.title(title)  \n",
    "\n",
    "    if barh:\n",
    "        plt.xlabel(\"Effectif\")\n",
    "        data.value_counts().plot(kind=\"barh\")\n",
    "    else:\n",
    "        plt.ylabel(\"Effectif\")\n",
    "        data.value_counts().plot(kind=\"bar\")\n",
    "    pass"
   ]
  },
  {
   "cell_type": "code",
   "execution_count": 14,
   "id": "b4332dea-016a-4e35-a6d5-5dea62dc9ea3",
   "metadata": {
    "tags": []
   },
   "outputs": [],
   "source": [
    "\"\"\"\n",
    " Fonction de visualisation des variables avec un pie chart\n",
    " @param colonne : designe la variable à visualiser.\n",
    " return None.\n",
    "\"\"\"\n",
    "\n",
    "def pieplot(colonne):\n",
    "    plt.figure(figsize=(10, 6), facecolor= \"white\")\n",
    "    colonne.value_counts().plot(kind=\"pie\")\n",
    "    pass"
   ]
  },
  {
   "cell_type": "code",
   "execution_count": 15,
   "id": "669a6cb7-9720-4059-a20b-40ed9b244b44",
   "metadata": {
    "tags": []
   },
   "outputs": [],
   "source": [
    "\"\"\"\n",
    " Fonction de visualisation des variables avec un diagramme en bar\n",
    " @param colonne : designe la variable à visualiser.\n",
    " return None.\n",
    "\"\"\"\n",
    "def barplot(colonne, label={}, title=\"\"):\n",
    "    plt.figure(figsize=(12,6))\n",
    "    colonne.value_counts().plot(kind=\"bar\")\n",
    "    plt.xlabel(label[\"x\"])\n",
    "    plt.ylabel(label[\"y\"])\n",
    "    plt.title(title)  \n",
    "    pass"
   ]
  },
  {
   "cell_type": "code",
   "execution_count": 16,
   "id": "774c9a40-7c8f-4ac7-9543-7bc03832583e",
   "metadata": {
    "tags": []
   },
   "outputs": [],
   "source": [
    "# Chargement de l'ensemble de données\n",
    "df = pd.read_csv(\"appointments_data.csv\")"
   ]
  },
  {
   "cell_type": "code",
   "execution_count": 17,
   "id": "2f3ab91e-94c3-4e07-8aa7-5546e992443d",
   "metadata": {
    "tags": []
   },
   "outputs": [
    {
     "data": {
      "text/plain": [
       "PatientId         float64\n",
       "AppointmentID       int64\n",
       "Gender             object\n",
       "ScheduledDay       object\n",
       "AppointmentDay     object\n",
       "Age                 int64\n",
       "Neighbourhood      object\n",
       "Scholarship         int64\n",
       "Hipertension        int64\n",
       "Diabetes            int64\n",
       "Alcoholism          int64\n",
       "Handcap             int64\n",
       "SMS_received        int64\n",
       "No-show            object\n",
       "dtype: object"
      ]
     },
     "execution_count": 17,
     "metadata": {},
     "output_type": "execute_result"
    }
   ],
   "source": [
    "df.dtypes"
   ]
  },
  {
   "cell_type": "code",
   "execution_count": 18,
   "id": "40c16d9c-9273-49f5-b0c5-62c079c3a685",
   "metadata": {
    "tags": []
   },
   "outputs": [
    {
     "data": {
      "text/plain": [
       "(110527, 14)"
      ]
     },
     "execution_count": 18,
     "metadata": {},
     "output_type": "execute_result"
    }
   ],
   "source": [
    "# Dimension de nôtre dataset\n",
    "df.shape"
   ]
  },
  {
   "cell_type": "code",
   "execution_count": 19,
   "id": "59e8aff8-f5c2-4d92-a845-db321d16607d",
   "metadata": {
    "tags": []
   },
   "outputs": [
    {
     "name": "stdout",
     "output_type": "stream",
     "text": [
      "<class 'pandas.core.frame.DataFrame'>\n",
      "RangeIndex: 110527 entries, 0 to 110526\n",
      "Data columns (total 14 columns):\n",
      " #   Column          Non-Null Count   Dtype  \n",
      "---  ------          --------------   -----  \n",
      " 0   PatientId       110527 non-null  float64\n",
      " 1   AppointmentID   110527 non-null  int64  \n",
      " 2   Gender          110527 non-null  object \n",
      " 3   ScheduledDay    110527 non-null  object \n",
      " 4   AppointmentDay  110527 non-null  object \n",
      " 5   Age             110527 non-null  int64  \n",
      " 6   Neighbourhood   110527 non-null  object \n",
      " 7   Scholarship     110527 non-null  int64  \n",
      " 8   Hipertension    110527 non-null  int64  \n",
      " 9   Diabetes        110527 non-null  int64  \n",
      " 10  Alcoholism      110527 non-null  int64  \n",
      " 11  Handcap         110527 non-null  int64  \n",
      " 12  SMS_received    110527 non-null  int64  \n",
      " 13  No-show         110527 non-null  object \n",
      "dtypes: float64(1), int64(8), object(5)\n",
      "memory usage: 11.8+ MB\n"
     ]
    }
   ],
   "source": [
    "df.info()"
   ]
  },
  {
   "cell_type": "markdown",
   "id": "baf750f6-37e8-4eb3-ab8f-012eb0e32cc8",
   "metadata": {},
   "source": [
    "Visualisation des différentes variables manquantes avec heatmap"
   ]
  },
  {
   "cell_type": "code",
   "execution_count": 20,
   "id": "4c550649-971b-4ab1-9770-43780768271a",
   "metadata": {
    "tags": []
   },
   "outputs": [
    {
     "data": {
      "text/plain": [
       "<AxesSubplot:>"
      ]
     },
     "execution_count": 20,
     "metadata": {},
     "output_type": "execute_result"
    },
    {
     "data": {
      "image/png": "[encoded data removed]",
      "text/plain": [
       "<Figure size 432x288 with 2 Axes>"
      ]
     },
     "metadata": {
      "needs_background": "light"
     },
     "output_type": "display_data"
    }
   ],
   "source": [
    "# Visualisation des différentes variables manquantes avec heatmap\n",
    "sns.heatmap(df.isna())"
   ]
  },
  {
   "cell_type": "markdown",
   "id": "36019e4d-cc69-4b18-b1bb-1fe35ed89c52",
   "metadata": {},
   "source": [
    "#### Interprétation\n",
    "Cette représentation, nous montre que notre ensemble de données contient aucune valeur manquante. Ce qui est très important pour la suite de notre analyse"
   ]
  },
  {
   "cell_type": "code",
   "execution_count": 21,
   "id": "1194cd0d-2b99-4d8a-8183-b8754afac759",
   "metadata": {
    "tags": []
   },
   "outputs": [
    {
     "data": {
      "text/plain": [
       "0"
      ]
     },
     "execution_count": 21,
     "metadata": {},
     "output_type": "execute_result"
    }
   ],
   "source": [
    "# Recherche des doublons dans le dataset\n",
    "df.duplicated().sum()"
   ]
  },
  {
   "cell_type": "code",
   "execution_count": 22,
   "id": "6e5618a2-fe48-4185-9fb2-7eb6af2c4e3f",
   "metadata": {
    "tags": []
   },
   "outputs": [
    {
     "data": {
      "text/plain": [
       "PatientId          62299\n",
       "AppointmentID     110527\n",
       "Gender                 2\n",
       "ScheduledDay      103549\n",
       "AppointmentDay        27\n",
       "Age                  104\n",
       "Neighbourhood         81\n",
       "Scholarship            2\n",
       "Hipertension           2\n",
       "Diabetes               2\n",
       "Alcoholism             2\n",
       "Handcap                5\n",
       "SMS_received           2\n",
       "No-show                2\n",
       "dtype: int64"
      ]
     },
     "execution_count": 22,
     "metadata": {},
     "output_type": "execute_result"
    }
   ],
   "source": [
    "df.nunique()"
   ]
  },
  {
   "cell_type": "markdown",
   "id": "346080c1-6790-4f2d-9180-14d5232147cd",
   "metadata": {
    "tags": []
   },
   "source": [
    "## Analyse de la forme\n",
    "\n",
    "1. L'ensemble des données concernant les rendez-vous medicaux compte au total 110527 lignes soit 110527 patients et 14 variables.\n",
    "2. Les variables (caractéristiques)\n",
    "Comme dit précedemment, l'ensemble de données comporte 14 variables dont 13 variables explicatives et 1  variable à expliquer. La variable à expliquer est une variable bimodale. La majorité des variables explicatives comme la variable à expliquer sont bimodales c'est à l'image de 'Gender', 'Scholarshipr\t'Hipertensionr, 'Diabetes',\t'Alcoholism', Handcap'\t'SMS_received'. Cependant, d'autre ne le sont pas.  \n",
    "3. Variables Manquantes et doublons  \n",
    "En effet, l'ensemble de données ne contient ni de variable manquante ni de variables doublons.\n",
    "4. Préparation des données  \n",
    "    - suppression du patients ayant leur age inférieur à 0.\n",
    "    - Suppression de deux colonne inutile dans le cadre de notre analyse notamment 'PatientId', et 'ApointmentID'.\n"
   ]
  },
  {
   "cell_type": "markdown",
   "id": "a88a98c6-9497-421e-aea2-e6e3738d8b10",
   "metadata": {},
   "source": [
    "### Préparation des données\n",
    "1. Dans cette partie, il est question de supprimer les deux variables PatientID et ApointmentID qui ont peut de valeur dans notre analyse.\n",
    "2. Etant données la colonne 'No-show' qui contient un caractère qui nous complique l'analyse, il serait alors nécessaire de la rénomé en No_show.\n",
    "3. Enfait, notre dataset contient un patient qui à un âge inférieur à 0. Ce qui est surement dû à une mauvaise saisie. Donc il est necessaire de la supprimée."
   ]
  },
  {
   "cell_type": "code",
   "execution_count": 23,
   "id": "0ff5b809-75da-441b-be62-de179ee7e2a9",
   "metadata": {
    "tags": []
   },
   "outputs": [],
   "source": [
    "# Renomée la colonne No-show en No_show\n",
    "df.rename(columns={\"No-show\":\"No_show\"}, inplace = True)"
   ]
  },
  {
   "cell_type": "code",
   "execution_count": 24,
   "id": "2bae7f32-4d81-4d8e-b00c-2f8f2670d184",
   "metadata": {
    "tags": []
   },
   "outputs": [],
   "source": [
    "# Suppression des colonnes non necessaire dans notre analyse\n",
    "df.drop([\"PatientId\", \"AppointmentID\"], axis = 1, inplace = True)"
   ]
  },
  {
   "cell_type": "code",
   "execution_count": 25,
   "id": "91d3da11-725d-40fd-b39a-988ca971c2e2",
   "metadata": {
    "tags": []
   },
   "outputs": [
    {
     "data": {
      "text/plain": [
       "(110527, 12)"
      ]
     },
     "execution_count": 25,
     "metadata": {},
     "output_type": "execute_result"
    }
   ],
   "source": [
    "# Nouvelle dimension de notre dataset\n",
    "df.shape"
   ]
  },
  {
   "cell_type": "code",
   "execution_count": 26,
   "id": "710e6b3a-e04e-4ad0-9d03-fb8ddd599512",
   "metadata": {
    "tags": []
   },
   "outputs": [],
   "source": [
    "# Ici, nous utilisons la fonction where de numpy pour selection unique\n",
    "# les patients dont leurs âges est négative\n",
    "age_extreme, = np.where(df.Age<0)\n",
    "\n",
    "# Ensuite, c'est la suppression\n",
    "df.drop(index=age_extreme, axis=0, inplace = True)"
   ]
  },
  {
   "cell_type": "markdown",
   "id": "e5c41f79-697e-42ce-b2df-e8f3b112a641",
   "metadata": {},
   "source": [
    "### Analyse Exploratoire de données\n",
    "1. **Analyse Univarié et Bivarié**  \n",
    "Dans cette partie, il s'agira d'analysé d'une part chaque variable pour enrichir nos recherches.  \n",
    "D'autre part nous allons faire une analyse comparatif entre les variables explicatives et la variable à expliquer. Cette analyse se fera deux à deux, c'est-à-dire une variable explicative et la variable à expliquer à la fois.\n",
    "2. **Visualisation**   \n",
    "En effet, l'analyse sera accompagner de graphique permettant d'avoir une forme visuelle de notre travail.  \n",
    "Pour la visualisation, nous utilisons les pie charts pour visualer uniquement les variables bimodale ou trimodale. Nous utilisons également les diagrammes en barres pour répresenter certains variables bimodales mais également les résultats des croisement entre chaque variable explicatives et la variable à expliquer.\n",
    "Par ailleurs, nous utilisons le heatmap pour répresenter les variables manquantes de notre dataset.\n",
    "3. **Conclusion**  \n",
    "Chaque Analyse sera sanctionné par une conclusion pour permettre une meuilleur comprenhension de notre demarche dans la résolution des différentes questions posées."
   ]
  },
  {
   "cell_type": "markdown",
   "id": "90c55f32-629d-45db-9a05-52123f7d1bea",
   "metadata": {},
   "source": [
    "Visualisation des effectifs des hommes et des femmes"
   ]
  },
  {
   "cell_type": "code",
   "execution_count": 27,
   "id": "b550221a-acc0-4a9d-8975-563c87eea8d0",
   "metadata": {
    "tags": []
   },
   "outputs": [
    {
     "data": {
      "text/plain": [
       "F    71839\n",
       "M    38687\n",
       "Name: Gender, dtype: int64"
      ]
     },
     "execution_count": 27,
     "metadata": {},
     "output_type": "execute_result"
    },
    {
     "data": {
      "image/png": "[encoded data removed]",
      "text/plain": [
       "<Figure size 864x432 with 1 Axes>"
      ]
     },
     "metadata": {
      "needs_background": "light"
     },
     "output_type": "display_data"
    }
   ],
   "source": [
    "title = \"Visualisation des effectifs des hommes et des femmes\"\n",
    "label = {\"x\":\"Gender\",\"y\":\"Effectif\"}\n",
    "barplot(df.Gender, label, title)\n",
    "df.Gender.value_counts()"
   ]
  },
  {
   "cell_type": "markdown",
   "id": "5e526f77-fa0a-4184-b0b8-53fe1c482516",
   "metadata": {},
   "source": [
    "#### Interprétation\n",
    "La variable 'Gender' présente un effectif élevée de Femme(F) par rapport aux hommes(M).  \n",
    "Nous avons en effet 71839 Feminin et 38687 Masculin."
   ]
  },
  {
   "cell_type": "code",
   "execution_count": 28,
   "id": "65e6082f-80ad-454c-b6be-08619be95de5",
   "metadata": {
    "tags": []
   },
   "outputs": [
    {
     "data": {
      "text/plain": [
       "count    110526.000000\n",
       "mean         37.089219\n",
       "std          23.110026\n",
       "min           0.000000\n",
       "25%          18.000000\n",
       "50%          37.000000\n",
       "75%          55.000000\n",
       "max         115.000000\n",
       "Name: Age, dtype: float64"
      ]
     },
     "execution_count": 28,
     "metadata": {},
     "output_type": "execute_result"
    }
   ],
   "source": [
    "df.Age.describe()"
   ]
  },
  {
   "cell_type": "markdown",
   "id": "7e3232da-ce94-4f80-8df8-bc6f5c273e88",
   "metadata": {},
   "source": [
    "Visualisation de la variable scholarship"
   ]
  },
  {
   "cell_type": "code",
   "execution_count": 69,
   "id": "24fd0173-d5ce-4420-b592-7ae30762139b",
   "metadata": {
    "tags": []
   },
   "outputs": [
    {
     "data": {
      "text/plain": [
       "0    99665\n",
       "1    10861\n",
       "Name: Scholarship, dtype: int64"
      ]
     },
     "execution_count": 69,
     "metadata": {},
     "output_type": "execute_result"
    },
    {
     "data": {
      "image/png": "[encoded data removed]",
      "text/plain": [
       "<Figure size 864x432 with 1 Axes>"
      ]
     },
     "metadata": {
      "needs_background": "light"
     },
     "output_type": "display_data"
    }
   ],
   "source": [
    "# Visualisation de la variable scholarship\n",
    "title = \"Scholarship Visualisation\"\n",
    "label = {\"x\":\"Scholarship\",\"y\":\"Effectif\"}\n",
    "barplot(df.Scholarship, label, title)\n",
    "df.Scholarship.value_counts()"
   ]
  },
  {
   "cell_type": "markdown",
   "id": "cf77bc08-1f37-4b16-9d08-017d3dac6d5d",
   "metadata": {},
   "source": [
    "#### Interprétation\n",
    "La variable Scholarship nous présente une assez grande majorité de patients qui ne bénéficie pas de l’aide financière octroyée aux ménages moins riches. Par contre les patients bénéficiant de cette aide sont très minoritaires soit un effectif de 10861 qui ont l’aide contre 99665 qui n’ont pas l’aide."
   ]
  },
  {
   "cell_type": "markdown",
   "id": "1a1c9b42-2417-445e-a022-60b468b681bd",
   "metadata": {},
   "source": [
    "Visualisation de la variable Hipertension"
   ]
  },
  {
   "cell_type": "code",
   "execution_count": 73,
   "id": "20eae252-8578-4ac8-94cf-4fdcac9679e6",
   "metadata": {
    "tags": []
   },
   "outputs": [
    {
     "data": {
      "text/plain": [
       "0    88725\n",
       "1    21801\n",
       "Name: Hipertension, dtype: int64"
      ]
     },
     "execution_count": 73,
     "metadata": {},
     "output_type": "execute_result"
    },
    {
     "data": {
      "image/png": "[encoded data removed]",
      "text/plain": [
       "<Figure size 720x432 with 1 Axes>"
      ]
     },
     "metadata": {},
     "output_type": "display_data"
    }
   ],
   "source": [
    "# Visualisation de la variable Hipertension\n",
    "pieplot(df.Hipertension)\n",
    "df.Hipertension.value_counts()"
   ]
  },
  {
   "cell_type": "markdown",
   "id": "9b91b946-dcf4-4c0f-9792-49425e2e82f5",
   "metadata": {},
   "source": [
    "#### Interprétation\n",
    "\n",
    "Le diagramme de barre ci-dessus nous présente la proportion des patients souffrant de l’hypertension. On remarque que moins de patients souffre de l’hypertension soit un effectif de 21801. Cet effectif est très faible par rapport aux patients qui ne souffre pas l’hypertension soit un effectif de 88725.\n"
   ]
  },
  {
   "cell_type": "markdown",
   "id": "8926d2d3-f9c0-4161-aec3-f16a73b9535a",
   "metadata": {},
   "source": [
    "Visualisation de la variable Diabetes"
   ]
  },
  {
   "cell_type": "code",
   "execution_count": 71,
   "id": "bfb7c0db-b3b2-45f7-839c-64344b6a3f5b",
   "metadata": {
    "tags": []
   },
   "outputs": [
    {
     "data": {
      "text/plain": [
       "0    102583\n",
       "1      7943\n",
       "Name: Diabetes, dtype: int64"
      ]
     },
     "execution_count": 71,
     "metadata": {},
     "output_type": "execute_result"
    },
    {
     "data": {
      "image/png": "[encoded data removed]",
      "text/plain": [
       "<Figure size 720x432 with 1 Axes>"
      ]
     },
     "metadata": {},
     "output_type": "display_data"
    }
   ],
   "source": [
    "pieplot(df.Diabetes)\n",
    "df.Diabetes.value_counts()"
   ]
  },
  {
   "cell_type": "markdown",
   "id": "d7651191-8418-4e43-bcd2-24db80a655e4",
   "metadata": {},
   "source": [
    "#### Interprétation\n",
    "\n",
    "Le pie chart ci-dessus, nous montre que notre dataset est constitué contient moins de malade de Diabètes. Le nombre de patients qui souffrent de la diabète est 7943. "
   ]
  },
  {
   "cell_type": "markdown",
   "id": "259b122c-3064-4e73-a711-aee6660d3521",
   "metadata": {},
   "source": [
    "Visualisation de la variable Alcoholism"
   ]
  },
  {
   "cell_type": "code",
   "execution_count": 72,
   "id": "8418ac33-d404-46ad-b409-254073a2f076",
   "metadata": {
    "tags": []
   },
   "outputs": [
    {
     "data": {
      "text/plain": [
       "0    107166\n",
       "1      3360\n",
       "Name: Alcoholism, dtype: int64"
      ]
     },
     "execution_count": 72,
     "metadata": {},
     "output_type": "execute_result"
    },
    {
     "data": {
      "image/png": "[encoded data removed]",
      "text/plain": [
       "<Figure size 720x432 with 1 Axes>"
      ]
     },
     "metadata": {},
     "output_type": "display_data"
    }
   ],
   "source": [
    "pieplot(df.Alcoholism)\n",
    "df.Alcoholism.value_counts()"
   ]
  },
  {
   "cell_type": "markdown",
   "id": "57d10af1-df7b-4350-8339-310ddc7639c4",
   "metadata": {},
   "source": [
    "#### Interprétation\n",
    "\n",
    "Les patients alcoholique sont aux nombres de 3360. Ce qui est trés faible comparativement aux nombre de patients que contient notre dataset."
   ]
  },
  {
   "cell_type": "markdown",
   "id": "e99c076f-c2ac-49f3-ab4e-1afeebd09f08",
   "metadata": {},
   "source": [
    "### Interprétation Spéciale\n",
    "L'analyse des variables Hipertention, alcoholism et Diabetes nous montre qu'il y'a plus de malade d'hypertension que diabétique et plus de diabétique qu’alcoolique. Cependant, il faut noter que nous avons certains patients qui souffre à la fois de deux maladies. Autrement, nous pouvons trouver un patient qui souffre à la fois de l'Hypertension et du diabète, c'est à l'image du patient à la ligne 4 de notre dataset. Nous avons des patients qui souffrent du diabète et de l'alcoolisme comme le patient à la ligne 46 de notre dataset."
   ]
  },
  {
   "cell_type": "markdown",
   "id": "c9efdfe3-b759-4741-b5bf-66240ea1fcbf",
   "metadata": {},
   "source": [
    "Visualisation de la variable Handcap"
   ]
  },
  {
   "cell_type": "code",
   "execution_count": 90,
   "id": "3bc98fc1-d1d8-4acc-b986-fe6a461a216d",
   "metadata": {
    "tags": []
   },
   "outputs": [
    {
     "data": {
      "text/plain": [
       "5"
      ]
     },
     "execution_count": 90,
     "metadata": {},
     "output_type": "execute_result"
    },
    {
     "data": {
      "image/png": "[encoded data removed]",
      "text/plain": [
       "<Figure size 720x432 with 1 Axes>"
      ]
     },
     "metadata": {},
     "output_type": "display_data"
    }
   ],
   "source": [
    "pieplot(df.Handcap)\n",
    "df.Handcap.nunique()\n"
   ]
  },
  {
   "cell_type": "markdown",
   "id": "a037284d-d9c8-48e4-83c1-effd8bdf35ab",
   "metadata": {},
   "source": [
    "#### Interprétation\n",
    "\n",
    "La variable Handcap contient 5 valeurs differentes.  \n",
    "Ce qui n'est pas normale car celon, la documentation la variable ne doit contenir que deux valeurs : Vrai ou faux.   \n",
    "La variable est en majorité constitué de 0 et 1, les valeurs (3, 4, 5) sont présent mais en plus petite quantité. "
   ]
  },
  {
   "cell_type": "markdown",
   "id": "9aa5110e-10a4-4a9e-9334-192afa605965",
   "metadata": {},
   "source": [
    "SMS_received"
   ]
  },
  {
   "cell_type": "code",
   "execution_count": 34,
   "id": "65514c01-3e54-47fb-9261-3c38fc468780",
   "metadata": {
    "tags": []
   },
   "outputs": [
    {
     "data": {
      "image/png": "[encoded data removed]",
      "text/plain": [
       "<Figure size 720x432 with 1 Axes>"
      ]
     },
     "metadata": {},
     "output_type": "display_data"
    }
   ],
   "source": [
    "pieplot(df.SMS_received)"
   ]
  },
  {
   "cell_type": "markdown",
   "id": "52603e54-3dde-459b-a24e-914412b5aa00",
   "metadata": {},
   "source": [
    "### Interprétation\n",
    "Le nombre de patients ayant reçuent les SMS sont minoritaire par rapport à ceux ne l'ayant pas reçu.  \n",
    "Ce graphique ci-dessus, nous donne une idée sur la proportion.  "
   ]
  },
  {
   "cell_type": "markdown",
   "id": "079028fb-e128-4ba2-8f05-f66dc234712e",
   "metadata": {},
   "source": [
    "Visualisation de la variable No_show"
   ]
  },
  {
   "cell_type": "code",
   "execution_count": 35,
   "id": "6bbc8896-d970-4aa6-b9f0-f32e4e8a8a56",
   "metadata": {
    "tags": []
   },
   "outputs": [
    {
     "data": {
      "image/png": "[encoded data removed]",
      "text/plain": [
       "<Figure size 720x432 with 1 Axes>"
      ]
     },
     "metadata": {},
     "output_type": "display_data"
    }
   ],
   "source": [
    "pieplot(df.No_show)"
   ]
  },
  {
   "cell_type": "markdown",
   "id": "5744d1cd-5d38-4cb6-9c75-5fe3ad67d90b",
   "metadata": {},
   "source": [
    "### Interprétation\n",
    "\n",
    "Notre graphique nous montre, une proportion importante de patient ayant honoré leur rendez-vous. Néanmoins, le nombre de patient qui ont manqué à leur rendez-vous ne pas pour autant négligeable. C'est ce qui suscite l'interrogation à savoir les facteurs permettant de savoir si le patient pourra honorer son rendez-vous."
   ]
  },
  {
   "cell_type": "markdown",
   "id": "2900af9c-99af-48b0-a15d-0b427e25f202",
   "metadata": {},
   "source": [
    "# Analyse Bivariee"
   ]
  },
  {
   "cell_type": "markdown",
   "id": "de0e85e8-9a60-477a-b49d-e4097e4f5a0d",
   "metadata": {},
   "source": [
    "Affichage des Cinq Prémière colonne de notre dataset"
   ]
  },
  {
   "cell_type": "code",
   "execution_count": 36,
   "id": "2422dd83-4752-40a5-b9be-b6941798e7fb",
   "metadata": {
    "tags": []
   },
   "outputs": [
    {
     "data": {
      "text/html": [
       "<div>\n",
       "<style scoped>\n",
       "    .dataframe tbody tr th:only-of-type {\n",
       "        vertical-align: middle;\n",
       "    }\n",
       "\n",
       "    .dataframe tbody tr th {\n",
       "        vertical-align: top;\n",
       "    }\n",
       "\n",
       "    .dataframe thead th {\n",
       "        text-align: right;\n",
       "    }\n",
       "</style>\n",
       "<table border=\"1\" class=\"dataframe\">\n",
       "  <thead>\n",
       "    <tr style=\"text-align: right;\">\n",
       "      <th></th>\n",
       "      <th>Gender</th>\n",
       "      <th>ScheduledDay</th>\n",
       "      <th>AppointmentDay</th>\n",
       "      <th>Age</th>\n",
       "      <th>Neighbourhood</th>\n",
       "      <th>Scholarship</th>\n",
       "      <th>Hipertension</th>\n",
       "      <th>Diabetes</th>\n",
       "      <th>Alcoholism</th>\n",
       "      <th>Handcap</th>\n",
       "      <th>SMS_received</th>\n",
       "      <th>No_show</th>\n",
       "    </tr>\n",
       "  </thead>\n",
       "  <tbody>\n",
       "    <tr>\n",
       "      <th>0</th>\n",
       "      <td>F</td>\n",
       "      <td>2016-04-29T18:38:08Z</td>\n",
       "      <td>2016-04-29T00:00:00Z</td>\n",
       "      <td>62</td>\n",
       "      <td>JARDIM DA PENHA</td>\n",
       "      <td>0</td>\n",
       "      <td>1</td>\n",
       "      <td>0</td>\n",
       "      <td>0</td>\n",
       "      <td>0</td>\n",
       "      <td>0</td>\n",
       "      <td>No</td>\n",
       "    </tr>\n",
       "    <tr>\n",
       "      <th>1</th>\n",
       "      <td>M</td>\n",
       "      <td>2016-04-29T16:08:27Z</td>\n",
       "      <td>2016-04-29T00:00:00Z</td>\n",
       "      <td>56</td>\n",
       "      <td>JARDIM DA PENHA</td>\n",
       "      <td>0</td>\n",
       "      <td>0</td>\n",
       "      <td>0</td>\n",
       "      <td>0</td>\n",
       "      <td>0</td>\n",
       "      <td>0</td>\n",
       "      <td>No</td>\n",
       "    </tr>\n",
       "    <tr>\n",
       "      <th>2</th>\n",
       "      <td>F</td>\n",
       "      <td>2016-04-29T16:19:04Z</td>\n",
       "      <td>2016-04-29T00:00:00Z</td>\n",
       "      <td>62</td>\n",
       "      <td>MATA DA PRAIA</td>\n",
       "      <td>0</td>\n",
       "      <td>0</td>\n",
       "      <td>0</td>\n",
       "      <td>0</td>\n",
       "      <td>0</td>\n",
       "      <td>0</td>\n",
       "      <td>No</td>\n",
       "    </tr>\n",
       "    <tr>\n",
       "      <th>3</th>\n",
       "      <td>F</td>\n",
       "      <td>2016-04-29T17:29:31Z</td>\n",
       "      <td>2016-04-29T00:00:00Z</td>\n",
       "      <td>8</td>\n",
       "      <td>PONTAL DE CAMBURI</td>\n",
       "      <td>0</td>\n",
       "      <td>0</td>\n",
       "      <td>0</td>\n",
       "      <td>0</td>\n",
       "      <td>0</td>\n",
       "      <td>0</td>\n",
       "      <td>No</td>\n",
       "    </tr>\n",
       "    <tr>\n",
       "      <th>4</th>\n",
       "      <td>F</td>\n",
       "      <td>2016-04-29T16:07:23Z</td>\n",
       "      <td>2016-04-29T00:00:00Z</td>\n",
       "      <td>56</td>\n",
       "      <td>JARDIM DA PENHA</td>\n",
       "      <td>0</td>\n",
       "      <td>1</td>\n",
       "      <td>1</td>\n",
       "      <td>0</td>\n",
       "      <td>0</td>\n",
       "      <td>0</td>\n",
       "      <td>No</td>\n",
       "    </tr>\n",
       "  </tbody>\n",
       "</table>\n",
       "</div>"
      ],
      "text/plain": [
       "  Gender          ScheduledDay        AppointmentDay  Age      Neighbourhood  \\\n",
       "0      F  2016-04-29T18:38:08Z  2016-04-29T00:00:00Z   62    JARDIM DA PENHA   \n",
       "1      M  2016-04-29T16:08:27Z  2016-04-29T00:00:00Z   56    JARDIM DA PENHA   \n",
       "2      F  2016-04-29T16:19:04Z  2016-04-29T00:00:00Z   62      MATA DA PRAIA   \n",
       "3      F  2016-04-29T17:29:31Z  2016-04-29T00:00:00Z    8  PONTAL DE CAMBURI   \n",
       "4      F  2016-04-29T16:07:23Z  2016-04-29T00:00:00Z   56    JARDIM DA PENHA   \n",
       "\n",
       "   Scholarship  Hipertension  Diabetes  Alcoholism  Handcap  SMS_received  \\\n",
       "0            0             1         0           0        0             0   \n",
       "1            0             0         0           0        0             0   \n",
       "2            0             0         0           0        0             0   \n",
       "3            0             0         0           0        0             0   \n",
       "4            0             1         1           0        0             0   \n",
       "\n",
       "  No_show  \n",
       "0      No  \n",
       "1      No  \n",
       "2      No  \n",
       "3      No  \n",
       "4      No  "
      ]
     },
     "execution_count": 36,
     "metadata": {},
     "output_type": "execute_result"
    }
   ],
   "source": [
    "df.head()"
   ]
  },
  {
   "cell_type": "code",
   "execution_count": 37,
   "id": "a114c612-01e6-439f-ada5-8afcaee918af",
   "metadata": {
    "jupyter": {
     "source_hidden": true
    },
    "tags": []
   },
   "outputs": [
    {
     "data": {
      "text/plain": [
       "No     88207\n",
       "Yes    22319\n",
       "Name: No_show, dtype: int64"
      ]
     },
     "execution_count": 37,
     "metadata": {},
     "output_type": "execute_result"
    }
   ],
   "source": [
    "df.No_show.value_counts()"
   ]
  },
  {
   "cell_type": "markdown",
   "id": "048280bc-a193-472b-84a0-51305e28a6bd",
   "metadata": {},
   "source": [
    "### Croisement entre 'Scholarship' et 'No_show'\n",
    "\n",
    "#### Interprétation\n",
    "À l'issue du croisement entre ces deux variables, sur une population de 110526 seulement 10% bénéficie de l’aide financière. Et sur cette proportion de 10%, 74.94% respecte au mieux leur rendez-vous contre 25.06%. Ce qui nous permet de dire que l’aide financière participe beaucoup au respect des jours du rendez-vous. Par-dessus tout sur une proportion de 90% des patients 80% respecte leur rendez-vous avec le médecin contre 20%. Ce qui sous-entend que nous avons à faire à une population plus ou moins riche. Donc en conclusion, dans une population en majorité riche, l’aide financière ne permet pas de prédire la présence du patient au rendez-vous. Par contre si la population est à majorité n’est pas assez riche alors, l’aide est d’une importance capitale."
   ]
  },
  {
   "cell_type": "code",
   "execution_count": 38,
   "id": "c21be1db-c882-44c7-b0eb-b623d1f07f85",
   "metadata": {
    "jupyter": {
     "source_hidden": true
    },
    "tags": []
   },
   "outputs": [
    {
     "name": "stdout",
     "output_type": "stream",
     "text": [
      "110526\n",
      "0    90.0\n",
      "1    10.0\n",
      "Name: Scholarship, dtype: float64\n"
     ]
    },
    {
     "data": {
      "text/plain": [
       "Scholarship  No_show\n",
       "0            No         72.312397\n",
       "             Yes        17.860956\n",
       "1            No          7.494164\n",
       "             Yes         2.332483\n",
       "dtype: float64"
      ]
     },
     "execution_count": 38,
     "metadata": {},
     "output_type": "execute_result"
    }
   ],
   "source": [
    "print(df.shape[0])\n",
    "print(np.round(100*df.Scholarship.value_counts()/df.shape[0]))\n",
    "100*df[[\"Scholarship\", \"No_show\"]].value_counts()/df.shape[0]"
   ]
  },
  {
   "cell_type": "markdown",
   "id": "f07cae65-4670-4f3a-a098-cfbd6dd779f7",
   "metadata": {},
   "source": [
    "Visualisation de Scholarship en fonction de No_show"
   ]
  },
  {
   "cell_type": "code",
   "execution_count": 39,
   "id": "f2a0a5a0-da10-4c42-b2aa-5f2a654e8d87",
   "metadata": {
    "jupyter": {
     "source_hidden": true
    },
    "tags": []
   },
   "outputs": [
    {
     "data": {
      "image/png": "[encoded data removed]",
      "text/plain": [
       "<Figure size 720x288 with 1 Axes>"
      ]
     },
     "metadata": {
      "needs_background": "light"
     },
     "output_type": "display_data"
    }
   ],
   "source": [
    "title = \"Visualisation de Scholarship en fonction de No_show\"\n",
    "barhplot(df[[\"Scholarship\", \"No_show\"]], title)"
   ]
  },
  {
   "cell_type": "markdown",
   "id": "dcffec6d-7eda-40e8-a624-d7acab7e9177",
   "metadata": {},
   "source": [
    "### Croisement entre la variable Gender et No_show\n",
    "\n",
    "#### Interprétation\n",
    "Notre dataset comporte 65% de Femme contre 35% d’Homme. Ce qui montre que les femmes prennent plus de rendez-vous que les hommes. En outre sur cette proportion de Femme nous avons 80% d’entre elle qui honore les rendez-vous contre 20%. De là viens la conclusion que le genre du patient nous permet de prédire sa présence au rendez-vous avec le médecin."
   ]
  },
  {
   "cell_type": "code",
   "execution_count": 40,
   "id": "b9db9085-26fd-43d5-8927-de428c272b96",
   "metadata": {
    "tags": []
   },
   "outputs": [
    {
     "name": "stdout",
     "output_type": "stream",
     "text": [
      "Gender\n",
      "F         64.997376\n",
      "M         35.002624\n",
      "dtype: float64\n"
     ]
    },
    {
     "data": {
      "text/plain": [
       "Gender  No_show\n",
       "F       No         51.793243\n",
       "M       No         28.013318\n",
       "F       Yes        13.204133\n",
       "M       Yes         6.989306\n",
       "dtype: float64"
      ]
     },
     "execution_count": 40,
     "metadata": {},
     "output_type": "execute_result"
    }
   ],
   "source": [
    "print(100*df[[\"Gender\"]].value_counts()/df.Gender.shape[0])\n",
    "100*df[[\"Gender\", \"No_show\"]].value_counts()/df.shape[0]"
   ]
  },
  {
   "cell_type": "markdown",
   "id": "f3ffff79-774a-452f-9f70-8886ed1615c2",
   "metadata": {},
   "source": [
    "Visualisation de Gender en fonction de No_show"
   ]
  },
  {
   "cell_type": "code",
   "execution_count": 41,
   "id": "6e0ba5c3-ed5a-4b5e-9d09-30eafc96c128",
   "metadata": {
    "jupyter": {
     "source_hidden": true
    },
    "tags": []
   },
   "outputs": [
    {
     "data": {
      "image/png": "[encoded data removed]",
      "text/plain": [
       "<Figure size 720x288 with 1 Axes>"
      ]
     },
     "metadata": {
      "needs_background": "light"
     },
     "output_type": "display_data"
    }
   ],
   "source": [
    "title = \"Visualisation de Gender en fonction de No_show\"\n",
    "barhplot(df[[\"Gender\", \"No_show\"]], title)"
   ]
  },
  {
   "cell_type": "markdown",
   "id": "43a88028-a584-4b04-84a3-0b3cd2d2bbee",
   "metadata": {},
   "source": [
    "### Croisement entre la variable 'Age' et 'No_show'\n",
    "\n",
    "#### Interprétation\n",
    "Pour mieux analyser la variable Age, il était nécessaire de le catégoriser en trois groupes principaux.\n",
    "Ainsi, est considéré jeune, les patients de moins de 24 ans, Adulte, ceux dont l’âge est compris entre 25 et 64ans. Et les vieux sont ceux dont leur âge est supérieur à 64 ans. Nôtre ensemble de données est à majorité Adulte soit 55.01% et respectivement 31.52% et 13.46% pour les patients respectivement Jeune et vieux. L’analyse entre les deux caractéristiques nous laisse voir que les adultes respectent plus les rendez-vous que les jeunes eux même qui respecte mieux que les vieux. Cela était prévisible si on se base sur la proportion des patients. Nous pouvons dés lors signifier que l’âge est un bon indicateur de la présence du patient au rendez-vous.\n"
   ]
  },
  {
   "cell_type": "code",
   "execution_count": 42,
   "id": "21b42324-419d-44af-b4eb-d1c974519e0c",
   "metadata": {
    "jupyter": {
     "source_hidden": true
    },
    "tags": []
   },
   "outputs": [
    {
     "data": {
      "text/plain": [
       "count    110526.000000\n",
       "mean         37.089219\n",
       "std          23.110026\n",
       "min           0.000000\n",
       "25%          18.000000\n",
       "50%          37.000000\n",
       "75%          55.000000\n",
       "max         115.000000\n",
       "Name: Age, dtype: float64"
      ]
     },
     "execution_count": 42,
     "metadata": {},
     "output_type": "execute_result"
    }
   ],
   "source": [
    "df.Age.describe()"
   ]
  },
  {
   "cell_type": "code",
   "execution_count": 43,
   "id": "dc929461-b745-441c-884b-40318ae2d6e8",
   "metadata": {
    "tags": []
   },
   "outputs": [],
   "source": [
    "# Catégorisation de la variable Age en Jeune, Adulte et Vieux\n",
    "bins_values = np.array([0,24, 64,115] )\n",
    "bins_label = [\"Jeune\", \"Adulte\", \"Vieux\"]\n",
    "df[\"Age\"] = pd.cut(df.Age, bins=bins_values, labels=bins_label)"
   ]
  },
  {
   "cell_type": "code",
   "execution_count": 44,
   "id": "20792753-975a-4c5b-b0ba-a45085813c96",
   "metadata": {
    "tags": []
   },
   "outputs": [
    {
     "data": {
      "text/plain": [
       "count     106987\n",
       "unique         3\n",
       "top       Adulte\n",
       "freq       58857\n",
       "Name: Age, dtype: object"
      ]
     },
     "execution_count": 44,
     "metadata": {},
     "output_type": "execute_result"
    }
   ],
   "source": [
    "df.Age.describe()"
   ]
  },
  {
   "cell_type": "code",
   "execution_count": 45,
   "id": "491673ec-2dde-45a0-90fa-09a87fcd04a9",
   "metadata": {
    "tags": []
   },
   "outputs": [
    {
     "data": {
      "text/plain": [
       "Age     No_show\n",
       "Adulte  No         47237\n",
       "Jeune   No         25901\n",
       "Vieux   No         12169\n",
       "Adulte  Yes        11620\n",
       "Jeune   Yes         7827\n",
       "Vieux   Yes         2233\n",
       "dtype: int64"
      ]
     },
     "execution_count": 45,
     "metadata": {},
     "output_type": "execute_result"
    }
   ],
   "source": [
    "df[[\"Age\", \"No_show\"]].value_counts()"
   ]
  },
  {
   "cell_type": "markdown",
   "id": "064ea583-164a-45ff-836a-d65a462fc523",
   "metadata": {},
   "source": [
    "Visualisation de la nouvelle variable Age"
   ]
  },
  {
   "cell_type": "code",
   "execution_count": 46,
   "id": "336b4115-3185-46e5-be0b-62601694b6ff",
   "metadata": {},
   "outputs": [
    {
     "data": {
      "image/png": "[encoded data removed]",
      "text/plain": [
       "<Figure size 720x432 with 1 Axes>"
      ]
     },
     "metadata": {},
     "output_type": "display_data"
    }
   ],
   "source": [
    "# Visualisation de la nouvelle variable Age\n",
    "pieplot(df.Age)"
   ]
  },
  {
   "cell_type": "markdown",
   "id": "cd8b4604-1893-41d7-aedf-ce7ef42fef20",
   "metadata": {},
   "source": [
    "### Interprétation\n",
    "Le graphique ci-dessus nous présente la variable âge que nous avons catégorisé.   \n",
    "Le graphique nous présente une proportion élevée d’Adulte par rapport aux jeunes et vieux. Le diagramme pie chart nous donne une bonne visualisation des différentes catégories des âges."
   ]
  },
  {
   "cell_type": "markdown",
   "id": "8ccfbea3-9394-4537-9d57-54e5d112db58",
   "metadata": {},
   "source": [
    "visualisation de l'Age et no_show"
   ]
  },
  {
   "cell_type": "code",
   "execution_count": 47,
   "id": "4bce769c-186e-42b8-a71d-2a7085b80a85",
   "metadata": {
    "jupyter": {
     "source_hidden": true
    },
    "tags": []
   },
   "outputs": [
    {
     "data": {
      "image/png": "[encoded data removed]",
      "text/plain": [
       "<Figure size 720x288 with 1 Axes>"
      ]
     },
     "metadata": {
      "needs_background": "light"
     },
     "output_type": "display_data"
    }
   ],
   "source": [
    "# visualisation de l'Age et no_show\n",
    "title = \"Visualisation de Age en fonction de No_show\"\n",
    "barhplot(df[[\"Age\", \"No_show\"]], title)"
   ]
  },
  {
   "cell_type": "markdown",
   "id": "77c59578-01e3-41a7-832c-8ba51092119f",
   "metadata": {},
   "source": [
    "### Croisement entre la variable 'SMS_received' et 'No_show'\n",
    "\n",
    "#### Interprétation\n",
    "67.9% de patients n'ont pas reçu contre 32.1% qui ont reçu le message. Le croisement entre la variable 'SMS_received' et 'No_show' nous indique que l'effectif des patients n'ayant pas reçu le message mais qui ont honoré leur rendez-vous est supérieur à ceux ayant reçu le message. Cela nous permet de dire que la réception du message n'a pas d'effet sur la présence ou l'absence d'un patient dans un rendez-vous avec le médecin."
   ]
  },
  {
   "cell_type": "code",
   "execution_count": 48,
   "id": "9a8cc823-8e98-4dee-9798-f333c5504328",
   "metadata": {
    "jupyter": {
     "source_hidden": true
    },
    "tags": []
   },
   "outputs": [
    {
     "data": {
      "text/plain": [
       "0    67.9\n",
       "1    32.1\n",
       "Name: SMS_received, dtype: float64"
      ]
     },
     "execution_count": 48,
     "metadata": {},
     "output_type": "execute_result"
    }
   ],
   "source": [
    "np.round(100*df.SMS_received.value_counts()/df.SMS_received.count(), 2)"
   ]
  },
  {
   "cell_type": "markdown",
   "id": "888b07ae-ffb9-40c0-945e-0b383fff7588",
   "metadata": {},
   "source": [
    "Visualisation de la variable SMS_received"
   ]
  },
  {
   "cell_type": "code",
   "execution_count": 50,
   "id": "c0608ae0-f873-45da-be4e-0a818a1e504e",
   "metadata": {
    "tags": []
   },
   "outputs": [
    {
     "data": {
      "text/plain": [
       "SMS_received  No_show\n",
       "0             No         62509\n",
       "1             No         25698\n",
       "0             Yes        12535\n",
       "1             Yes         9784\n",
       "dtype: int64"
      ]
     },
     "execution_count": 50,
     "metadata": {},
     "output_type": "execute_result"
    }
   ],
   "source": [
    "df[[\"SMS_received\", \"No_show\"]].value_counts()"
   ]
  },
  {
   "cell_type": "code",
   "execution_count": 51,
   "id": "e17a3e11-41ff-4d68-845e-66f88358a9ad",
   "metadata": {
    "jupyter": {
     "source_hidden": true
    },
    "tags": []
   },
   "outputs": [
    {
     "name": "stdout",
     "output_type": "stream",
     "text": [
      "SMS_received  No_show\n",
      "0             No         56.555923\n",
      "1             No         23.250638\n",
      "0             Yes        11.341223\n",
      "1             Yes         8.852216\n",
      "dtype: float64\n"
     ]
    },
    {
     "data": {
      "image/png": "[encoded data removed]",
      "text/plain": [
       "<Figure size 720x288 with 1 Axes>"
      ]
     },
     "metadata": {
      "needs_background": "light"
     },
     "output_type": "display_data"
    }
   ],
   "source": [
    "print(100*df[[\"SMS_received\", \"No_show\"]].value_counts()/df.No_show.shape[0])\n",
    "title = \"Visualisation de SMS_received en fonction de No_show\"\n",
    "barhplot(df[[\"SMS_received\", \"No_show\"]], title)"
   ]
  },
  {
   "cell_type": "markdown",
   "id": "ec45175c-db81-4b7b-8e72-c9a42529bf93",
   "metadata": {
    "tags": []
   },
   "source": [
    "### Croisement entre AppointmentDay et No_show\n",
    "\n",
    "#### Interprétation\n",
    "Pour mieux réussir ce croisement, il a fallu deux colonnes supplémentaires comportant des informations sur le mois (Avril, Mai, Juin) et le jour (Lundi, Mardi, Mercredi, Jeudi, Vendredi, Samedi) du rendez-vous. En effet, sur 110526, nous avons 73.14% de rendez-vous en Mai, 23.93% en Juin et 2.92% en Avril. L’analyse sur les mois du rendez-vous, nous montre qu’il y’a bien plus de rendez-vous respecter le moi de Mai que d’avril et Juin d’autant plus que c’est le mois où il y’a eu beaucoup plus de rendez-vous. L’analyse des jours du rendez-vous nous révélé qu’il n’Ya pratiquement pas de rendez-vous les Samedi comparé aux autres jours de la semaine. Ce qui explique le nombre élevé de rendez-vous durant ces jours. Nous pouvons déduire que le mois et le jour du rendez-vous ne justifie pas la présence d’un patient au rendez-vous."
   ]
  },
  {
   "cell_type": "code",
   "execution_count": 52,
   "id": "f01a9111-54f0-4e9e-a89e-a055b94d806e",
   "metadata": {
    "tags": []
   },
   "outputs": [],
   "source": [
    "# Conversion de la variable Appointment de object en datetime.\n",
    "df.AppointmentDay = pd.to_datetime(df.AppointmentDay)"
   ]
  },
  {
   "cell_type": "code",
   "execution_count": 53,
   "id": "34e06864-b3de-4a2d-a7b5-b51a5dc9a2e4",
   "metadata": {
    "tags": []
   },
   "outputs": [],
   "source": [
    "# Extraction du mois et du jour appartir de la variable AppointmentDay\n",
    "df[\"AppointmentDay_month\"] = df.AppointmentDay.dt.month_name() # Mois\n",
    "df[\"AppointmentDay_day\"] = df.AppointmentDay.dt.day_name() # Jours"
   ]
  },
  {
   "cell_type": "markdown",
   "id": "a1541382-817f-4f88-b5bc-c225c507339c",
   "metadata": {},
   "source": [
    "Visualisation de AppointmentDay_month"
   ]
  },
  {
   "cell_type": "code",
   "execution_count": 54,
   "id": "52ff2f87-578c-4b37-a612-3fed0fcae4ec",
   "metadata": {
    "jupyter": {
     "source_hidden": true
    },
    "tags": []
   },
   "outputs": [
    {
     "data": {
      "image/png": "[encoded data removed]",
      "text/plain": [
       "<Figure size 720x432 with 1 Axes>"
      ]
     },
     "metadata": {},
     "output_type": "display_data"
    }
   ],
   "source": [
    "# Visualisation de AppointmentDay_month\n",
    "pieplot(df[\"AppointmentDay_month\"])"
   ]
  },
  {
   "cell_type": "markdown",
   "id": "aade7624-de44-4cf4-bf3a-a5cd7e5e4099",
   "metadata": {},
   "source": [
    "### Interprétation\n",
    "\n",
    "L'extraction des mois de la variable AppointmentDay nous donne une idée sur les mois de l'année 2016 concerné par notre analyse.  \n",
    "Nous avons en effet, le mois d'Avril, de Mai et de Juin.  \n",
    "Il y'a eu plus de rendez-vous dans le mois de Mai que les deux autres mois (Avril et Juin)."
   ]
  },
  {
   "cell_type": "markdown",
   "id": "857cb6d1-45ce-41b9-ada8-65bfaff9f356",
   "metadata": {},
   "source": [
    "Visualisation du croisement de la variable AppointmentDay_month en fonction de No_show"
   ]
  },
  {
   "cell_type": "code",
   "execution_count": 55,
   "id": "e49684e9-998f-4509-8777-0e7003fe9dff",
   "metadata": {
    "tags": []
   },
   "outputs": [
    {
     "data": {
      "image/png": "[encoded data removed]",
      "text/plain": [
       "<Figure size 720x288 with 1 Axes>"
      ]
     },
     "metadata": {
      "needs_background": "light"
     },
     "output_type": "display_data"
    }
   ],
   "source": [
    "title = \"AppointmentDay_month en fonction de No_show\"\n",
    "barhplot(df[[\"AppointmentDay_month\", \"No_show\"]], title, True)"
   ]
  },
  {
   "cell_type": "markdown",
   "id": "999738a6-6629-4f92-a1ee-1a5b515c9883",
   "metadata": {},
   "source": [
    "Visualisation des jours de rendez-vous"
   ]
  },
  {
   "cell_type": "code",
   "execution_count": 56,
   "id": "8cc6035d-ca60-4249-9c02-b3c54f11e66f",
   "metadata": {
    "tags": []
   },
   "outputs": [
    {
     "data": {
      "image/png": "[encoded data removed]",
      "text/plain": [
       "<Figure size 864x432 with 1 Axes>"
      ]
     },
     "metadata": {
      "needs_background": "light"
     },
     "output_type": "display_data"
    }
   ],
   "source": [
    "label = {\"x\":\"Jours\", \"y\":\"Effectif\"}\n",
    "title = \"Les jours de rendez-vous\"\n",
    "barplot(df[\"AppointmentDay_day\"], label, title)"
   ]
  },
  {
   "cell_type": "markdown",
   "id": "191eac20-e11e-4c43-981a-a9f847f0a260",
   "metadata": {},
   "source": [
    "### Interprétation\n",
    "\n",
    "Le diagramme en bar nous présente les différents jours du rendez-vous effectuer par semaine.   \n",
    "Le graphique nous montre qu'il y'a plus de rendez-vous le Mardi et le Mercredi.   \n",
    "Nous avons moins de rendez-vous le Lundi, Jeudi et Vendredi.   \n",
    "Par contre le Samedi, il y'a très peu de rendez-vous, voire quasiment même pas de rendez-vous. "
   ]
  },
  {
   "cell_type": "code",
   "execution_count": 57,
   "id": "05b9f4b4-9e3e-48f9-a214-e5230d97fbdf",
   "metadata": {
    "tags": []
   },
   "outputs": [
    {
     "data": {
      "text/plain": [
       "AppointmentDay_day  No_show\n",
       "Wednesday           No         18.795578\n",
       "Tuesday             No         18.536815\n",
       "Monday              No         16.307475\n",
       "Friday              No         13.555182\n",
       "Thursday            No         12.584369\n",
       "Tuesday             Yes         4.661347\n",
       "Wednesday           Yes         4.607966\n",
       "Monday              Yes         4.243345\n",
       "Friday              Yes         3.652534\n",
       "Thursday            Yes         3.020104\n",
       "Saturday            No          0.027143\n",
       "                    Yes         0.008143\n",
       "dtype: float64"
      ]
     },
     "execution_count": 57,
     "metadata": {},
     "output_type": "execute_result"
    }
   ],
   "source": [
    "100*df[[\"AppointmentDay_day\", \"No_show\"]].value_counts()/df.shape[0]"
   ]
  },
  {
   "cell_type": "markdown",
   "id": "dde99106-7bde-4b7b-b361-53eabf456040",
   "metadata": {},
   "source": [
    "Visualisation du crosement de la variable AppointmentDay_day en fonction de No_show"
   ]
  },
  {
   "cell_type": "code",
   "execution_count": 58,
   "id": "0ec815ea-6460-4391-8618-4b8b962b7624",
   "metadata": {
    "jupyter": {
     "source_hidden": true
    },
    "tags": []
   },
   "outputs": [
    {
     "data": {
      "image/png": "[encoded data removed]",
      "text/plain": [
       "<Figure size 720x288 with 1 Axes>"
      ]
     },
     "metadata": {
      "needs_background": "light"
     },
     "output_type": "display_data"
    }
   ],
   "source": [
    "title = \"AppointmentDay_day en fonction de No_show\"\n",
    "barhplot(df[[\"AppointmentDay_day\", \"No_show\"]], title, True)"
   ]
  },
  {
   "cell_type": "markdown",
   "id": "1223bf77-2d42-42f0-a89b-1c79d4d19a11",
   "metadata": {},
   "source": [
    "### Croisement entre Malade et 'No_show'\n",
    "#### Interprétation\n",
    "Dans cette partie, nous avons jugé nécessaire d’ajouter une colonne pour spécifier les malades c’est-à-dire un patient atteint d’une de ces maladie Hipertension, le Diabetes et l'Alcoholism et les non malades. Étant donnée un ensemble de 110526 patients, nous avons 77.19% qui ne sont pas malade et 22.81% qui sont malade. Ainsi la proportion des non malade étant assez élevé nous montre bien qu’ils respectent aux mieux leur rendez-vous comparé à ce malade. Cependant, une étude bien détaillée sur les patients Hypertendus et/ou Diabétiques révèle que ces derniers respectent bien plus les rendez-vous étant donnée leur état de santé. Par conséquent, nous pouvons conclure en disant que la caractéristique Hipertension et Diabetes peuvent nous permettre de prédire si le patient viendra au rendez-vous. En outre la variable Alcoholism n’est pas d’une grande importance dans la prédiction."
   ]
  },
  {
   "cell_type": "code",
   "execution_count": 59,
   "id": "dfde4d56-2942-4864-96e0-14cbf64e84d2",
   "metadata": {
    "tags": []
   },
   "outputs": [],
   "source": [
    "# On selection tout les patients qui souffre au moins de l'hipertension, du Diabetes\n",
    "# et de l'alcoholism\n",
    "df1 = df.query(\"(Hipertension==1)\"\"or (Diabetes==1)\"\"or (Alcoholism==1)\")"
   ]
  },
  {
   "cell_type": "code",
   "execution_count": 60,
   "id": "15d264e8-484b-4b5d-8e1d-d2da2d38b5cc",
   "metadata": {
    "tags": []
   },
   "outputs": [
    {
     "name": "stderr",
     "output_type": "stream",
     "text": [
      "C:\\Users\\user\\AppData\\Local\\Temp\\ipykernel_6632\\3440448397.py:3: SettingWithCopyWarning: \n",
      "A value is trying to be set on a copy of a slice from a DataFrame.\n",
      "Try using .loc[row_indexer,col_indexer] = value instead\n",
      "\n",
      "See the caveats in the documentation: https://pandas.pydata.org/pandas-docs/stable/user_guide/indexing.html#returning-a-view-versus-a-copy\n",
      "  df1.loc[:, \"Malade\"] = np.repeat(1,len(df1))\n"
     ]
    }
   ],
   "source": [
    "# Ajout d'une nouvelle colonne 'malade = 1' pour les patients malade\n",
    "# La fonction repeat de numpy est necessaire.\n",
    "df1.loc[:, \"Malade\"] = np.repeat(1,len(df1))"
   ]
  },
  {
   "cell_type": "code",
   "execution_count": 61,
   "id": "a09a1aff-4412-4565-a56a-6d53001b0629",
   "metadata": {
    "jupyter": {
     "source_hidden": true
    },
    "tags": []
   },
   "outputs": [
    {
     "name": "stderr",
     "output_type": "stream",
     "text": [
      "C:\\Users\\user\\AppData\\Local\\Temp\\ipykernel_6632\\3502309714.py:4: SettingWithCopyWarning: \n",
      "A value is trying to be set on a copy of a slice from a DataFrame.\n",
      "Try using .loc[row_indexer,col_indexer] = value instead\n",
      "\n",
      "See the caveats in the documentation: https://pandas.pydata.org/pandas-docs/stable/user_guide/indexing.html#returning-a-view-versus-a-copy\n",
      "  df2.loc[:, \"Malade\"] = np.repeat(0,len(df2))\n"
     ]
    }
   ],
   "source": [
    "# On selection les patients qui ne souffre d'aucune de ces maladies\n",
    "df2 = df.query(\"(Hipertension==0)\"\"and (Diabetes==0)\"\"and (Alcoholism==0)\")\n",
    "# initialisation de la nouvelle variable à 0.\n",
    "df2.loc[:, \"Malade\"] = np.repeat(0,len(df2))"
   ]
  },
  {
   "cell_type": "code",
   "execution_count": 62,
   "id": "5f2125e3-d834-4d08-bce8-df73f4c34fa0",
   "metadata": {
    "tags": []
   },
   "outputs": [],
   "source": [
    "# Fusion des deux dataframe pour consituer un seule.\n",
    "df_new = pd.concat([df1, df2], axis=0, ignore_index=True)"
   ]
  },
  {
   "cell_type": "code",
   "execution_count": 63,
   "id": "0af8cf74-ad35-4ef9-b8f8-9153ec07159e",
   "metadata": {
    "tags": []
   },
   "outputs": [],
   "source": [
    "# Sauvegarde de la nouvelle dataset sour le non de appointments.csv\n",
    "df_new.to_csv(\"appointments.csv\", index=False)"
   ]
  },
  {
   "cell_type": "code",
   "execution_count": 64,
   "id": "197de818-8690-4f13-939b-607ffc3b3fa0",
   "metadata": {
    "tags": []
   },
   "outputs": [
    {
     "data": {
      "text/plain": [
       "0    0.771864\n",
       "1    0.228136\n",
       "Name: Malade, dtype: float64"
      ]
     },
     "execution_count": 64,
     "metadata": {},
     "output_type": "execute_result"
    },
    {
     "data": {
      "image/png": "[encoded data removed]",
      "text/plain": [
       "<Figure size 720x432 with 1 Axes>"
      ]
     },
     "metadata": {},
     "output_type": "display_data"
    }
   ],
   "source": [
    "pieplot(df_new.Malade)\n",
    "df_new.Malade.value_counts()/df_new.Malade.count()"
   ]
  },
  {
   "cell_type": "markdown",
   "id": "72130e4a-8e4b-4315-9322-bd7bab4b2fe0",
   "metadata": {},
   "source": [
    "Visualisation des Malades respectant les rendez-vous"
   ]
  },
  {
   "cell_type": "code",
   "execution_count": 65,
   "id": "8b51f1f9-6802-4514-8f18-02a82dfafb4b",
   "metadata": {
    "tags": []
   },
   "outputs": [
    {
     "data": {
      "image/png": "[encoded data removed]",
      "text/plain": [
       "<Figure size 720x288 with 1 Axes>"
      ]
     },
     "metadata": {
      "needs_background": "light"
     },
     "output_type": "display_data"
    }
   ],
   "source": [
    "title = \"Malades respectant les rendez-vous\"\n",
    "barhplot(df_new[[\"Malade\",\"No_show\"]], title, True)"
   ]
  },
  {
   "cell_type": "markdown",
   "id": "adf3364e-71ff-4dc6-a737-c884d61ff3b0",
   "metadata": {},
   "source": [
    "Visualisation de la variable Hippertation et No_show"
   ]
  },
  {
   "cell_type": "code",
   "execution_count": 66,
   "id": "f1c581e1-5c0b-43c1-8317-25d7fd9c02e4",
   "metadata": {
    "tags": []
   },
   "outputs": [
    {
     "data": {
      "image/png": "[encoded data removed]",
      "text/plain": [
       "<Figure size 720x288 with 1 Axes>"
      ]
     },
     "metadata": {
      "needs_background": "light"
     },
     "output_type": "display_data"
    }
   ],
   "source": [
    "title = \"Hippertation et No_show\"\n",
    "barhplot(df[[\"Hipertension\",\"No_show\"]], title)"
   ]
  },
  {
   "cell_type": "markdown",
   "id": "f46e5a1c-5426-4f3b-9175-ba16648d4a01",
   "metadata": {},
   "source": [
    "Visualisation de la variable Diabetes et No_show"
   ]
  },
  {
   "cell_type": "code",
   "execution_count": 67,
   "id": "5c02fd76-1b52-4a12-923a-c54966f00d67",
   "metadata": {
    "tags": []
   },
   "outputs": [
    {
     "data": {
      "image/png": "[encoded data removed]",
      "text/plain": [
       "<Figure size 720x288 with 1 Axes>"
      ]
     },
     "metadata": {
      "needs_background": "light"
     },
     "output_type": "display_data"
    }
   ],
   "source": [
    "title = \"Diabetes et No_show\"\n",
    "barhplot(df[[\"Diabetes\",\"No_show\"]], title)"
   ]
  },
  {
   "cell_type": "markdown",
   "id": "29fcbca9-8b60-48b2-822c-0609fbda2a01",
   "metadata": {},
   "source": [
    "Visualisation de la variable Alcoholism et No_show"
   ]
  },
  {
   "cell_type": "code",
   "execution_count": 68,
   "id": "792754a8-a641-487f-9a3c-1b9cba2fe0c3",
   "metadata": {
    "tags": []
   },
   "outputs": [
    {
     "data": {
      "image/png": "[encoded data removed]",
      "text/plain": [
       "<Figure size 720x288 with 1 Axes>"
      ]
     },
     "metadata": {
      "needs_background": "light"
     },
     "output_type": "display_data"
    }
   ],
   "source": [
    "title = \"Alcoholism et No_show\"\n",
    "barhplot(df[[\"Alcoholism\",\"No_show\"]], title)"
   ]
  },
  {
   "cell_type": "markdown",
   "id": "7e02eab1-b99d-42af-b55f-fbc3c5f02c79",
   "metadata": {
    "tags": []
   },
   "source": [
    "# Conclusion Générale\n",
    "\n",
    "Notre analyse porte sur l’ensemble de données No-Show appointments disponible sur kaggle. Tout au long de notre analyse nous avons utilisé python comme langage de programmation. En effet python nous offre des modules bien adapter pour l’analyse des données. Les modules utilisés à cet effet sont nécessairement :\n",
    "Pandas : utilisé pour le chargement et la manipulation des données ;\n",
    "Numpy : utilisé pour effectuer des opérations mathématiques.\n",
    "Matplotlib et Seaborn : sont utilisé pour la visualisation. \n",
    "En plus de ces outils, nous avons eu recours à Jupyter Notebooks comme environnement de travail.  \n",
    "À l’issue de l’analyse nous somme en mesure de répondre aux différentes questions que nous nous étions posés au tout début de notre analyse.  \n",
    "\n",
    "1)\tEn effet, notre analyse nous révèle bien que les adultes c’est-à-dire les patients ayant un âge compris entre 25 et 64 ans sont beaucoup plus favorables au rendez-vous. Cela s’explique à travers l’effectif du nombre de patients qui ont respecté les rendez-vous.   \n",
    "\n",
    "2)\tEn outre, l’envoie de message de rappelle à peut de valeur sur le respect des rendez-vous d’autant plus que le nombre de patients ayant reçu les messages et ayant respecté le rendez-vous est minoritaire devant ceux n’ayant même pas reçu le message et qui ont honoré leur rendez-vous.  \n",
    "\n",
    "3)\tPar ailleurs, dans une population bien plus riche, l’aide financière n’impacte pas le rendez-vous. Par contre dans une population à majorité moins riche, l’aide financière est très important pour le respect des rendez-vous car la proportion des patients ayant reçu l’aide financière et qui ont respecté leur rendez-vous n’étais pas négligeable.  \n",
    "\n",
    "4)\tÉgalement, dans notre dataset, les mois et jours du rendez-vous ont peut d’influence sur le respect du jour du rendez-vous. Cela sans doute parce que soit la majorité des patients sont des femmes car les mieux représenté ou parce la majorité n’ont pas de d’occupation particulière le jour de leur rendez-vous.\n",
    "\n",
    "5) Les patients Hypertendu ou Diabétiques en raison de leur état de santé sont enclins à bien plus respecter leur rendez-vous vis-à-vis de leur état de santé. \n",
    "\n",
    "6)  Dans notre analyse, nous avons trouvé que les patients sont en majorité des femmes. Ce qui est en adéquation avec les dits de la documentation. Cette proportion élevée des femmes explique le fait que les taux de femmes respectant les rendez-vous soient plus élevé que celui des hommes qui sont minauritaire.On s'en tient alors à cette conclusion: les femmes sont beaucoup plus préoccupées par leurs états de santé comparativement aux hommes. Les femmes respectent plus les rendez-vous que les hommes.\n",
    "\n",
    "Donc retenons que pour effectuer un modèle de prédictions les caractéristiques :   'Gender,Hipertension, Diabetes, Age, Scholarship, peuvent s’avérer nécessaire.   \n",
    "\n",
    "\n"
   ]
  },
  {
   "cell_type": "markdown",
   "id": "1388248f-ac0a-4cf9-9ea8-f30d167a4775",
   "metadata": {},
   "source": [
    "### Limit\n",
    "L'analyse de l'ensemble de données \"appointments_data.csv\" nous apprend beaucoup de chose. Cependant certains limites se font resentir.  \n",
    "En effet, celon la documentation [noshowappointments] (https://www.kaggle.com/datasets/joniarroba/noshowappointments), la variable Handcap devais être une variable bimodale afficher vrai ou faux. Cependant, dans nos analyse, nous marquons qu'elle posséde 4 valeur numériques. Ce qui rend compliqué nos analyse car n'ayant aucune documentation complète sur cette variable.   \n",
    "En outre les données analysés concerne uniquement trois mois sur les douze notamment le moi d'Avril, de Mai et de Juin. Ce qui nous permet pas de tirer des conclusions concernant l'année 2016 entièrement."
   ]
  },
  {
   "cell_type": "markdown",
   "id": "2cd5e8ac-c9b5-4ac5-afca-abbe09affbc2",
   "metadata": {},
   "source": [
    "### Documentations :\n",
    "1. https://d17h27t6h515a5.cloudfront.net/topher/2017/October/59dd2e9a_noshowappointments-kagglev2-may-2016/noshowappointments-kagglev2-may-2016.csv\n",
    "2. https://en.wikipedia.org/wiki/Bolsa_Fam%C3%ADlia\n",
    "3. https://www.kaggle.com/datasets/joniarroba/noshowappointments"
   ]
  }
 ],
 "metadata": {
  "kernelspec": {
   "display_name": "Python 3 (ipykernel)",
   "language": "python",
   "name": "python3"
  },
  "language_info": {
   "codemirror_mode": {
    "name": "ipython",
    "version": 3
   },
   "file_extension": ".py",
   "mimetype": "text/x-python",
   "name": "python",
   "nbconvert_exporter": "python",
   "pygments_lexer": "ipython3",
   "version": "3.10.1"
  }
 },
 "nbformat": 4,
 "nbformat_minor": 5
}
